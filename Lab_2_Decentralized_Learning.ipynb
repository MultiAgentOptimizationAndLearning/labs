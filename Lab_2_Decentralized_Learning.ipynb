{
 "cells": [
  {
   "attachments": {},
   "cell_type": "markdown",
   "metadata": {},
   "source": [
    "**Problem 8.2** For a deterministic optimization problem of your choice, implement the consensus+innovation, EXTRA and gradient-tracking algorithms and show that distributed gradient descent exhibits a bias, while EXTRA and gradient-tracking converge exactly. How do these findings change with the choice of the step-size $\\mu$?\n",
    "\n",
    "\n",
    "**Solution.** We generate quadratic problems in a manner similar to **Problem 1.1** to demonstrate the benefit of employing bias-corrected algorithms. An advantage of quadratic problems is that we will be possible to compute exact solutions in closed form. This simplifies the problem of evaluating the error.\n",
    "\n",
    "We generate local data sets $\\{ h_{k, n}, \\gamma_{k, n} \\}_{n=1}^N$ following the statistical model of Example 1.4. To exacerbate the local heterogeneity in the data sets, we use variable local models $w_k$. We begin by importing some standard packages which will be useful throughout this exercise:"
   ]
  },
  {
   "cell_type": "code",
   "execution_count": 137,
   "metadata": {},
   "outputs": [],
   "source": [
    "import numpy as np\n",
    "import matplotlib.pyplot as plt\n",
    "%matplotlib inline\n",
    "\n",
    "np.random.seed(0)"
   ]
  },
  {
   "attachments": {},
   "cell_type": "markdown",
   "metadata": {},
   "source": [
    "We begin by setting the variance parameters $\\sigma_w^2, \\sigma_h^2, \\sigma_v^2$, network size $K$, sample size $N$ and dimension $M$. Then generate a realization of the weight vector $w$ by sampling once from the normal distribution $\\mathcal{N}(0, \\sigma_w^2 I_M)$. For each agent $k$, we sample $N$ times from $\\mathcal{N}(0, \\sigma_h^2 I_M)$ to generate $\\{ h_{k, n} \\}_{n=1}^N$, and $N$ times from $\\mathcal{N}(0, \\sigma_v^2)$ to generate $\\{ v_{k, n} \\}_{n=1}^N$. $\\{ \\gamma_{k, n} \\}_{n=1}^N$ are then generated according to the linear model (1.28). We store data sets in matrices for compact coding."
   ]
  },
  {
   "cell_type": "code",
   "execution_count": 138,
   "metadata": {},
   "outputs": [],
   "source": [
    "sigma_h_squared = 1\n",
    "sigma_v_squared = 0.01\n",
    "sigma_w_squared = 0\n",
    "\n",
    "M = 2\n",
    "K = 10\n",
    "\n",
    "w_base = np.ones(M)\n",
    "w = np.random.multivariate_normal(w_base, np.square(sigma_w_squared)*np.eye(M), K).T\n",
    "w_star = np.mean(w, 1)\n"
   ]
  },
  {
   "attachments": {},
   "cell_type": "markdown",
   "metadata": {},
   "source": [
    "Now, we generate a graph using the structure of Problem 7.2."
   ]
  },
  {
   "cell_type": "code",
   "execution_count": 139,
   "metadata": {},
   "outputs": [
    {
     "name": "stdout",
     "output_type": "stream",
     "text": [
      "0.9451725804852645\n"
     ]
    }
   ],
   "source": [
    "p_edge = 0.1\n",
    "\n",
    "lambda_2 = 1\n",
    "while lambda_2 > 0.99999999:\n",
    "    C = np.eye(K)\n",
    "    for k in range(K):\n",
    "        for l in range(k+1, K):\n",
    "            connected = np.random.binomial(1, p_edge)\n",
    "            if connected == 1:\n",
    "                C[l, k] = 1\n",
    "                C[k, l] = 1\n",
    "\n",
    "    n = C@np.ones((K,))\n",
    "\n",
    "    A = np.zeros((K, K))\n",
    "    for k in range(K):\n",
    "        for l in range(k+1, K):\n",
    "            if C[k, l] == 1:\n",
    "                A[k, l] = np.true_divide(1, np.max([n[k], n[l]]))\n",
    "                A[l, k] = A[k, l]\n",
    "\n",
    "    degrees = A@np.ones((K,))\n",
    "    for k in range(K):\n",
    "        A[k, k] = 1 - degrees[k]\n",
    "\n",
    "    eigs = np.linalg.eigvalsh(A)\n",
    "    lambda_2 = eigs[-2]\n",
    "print(lambda_2)\n"
   ]
  },
  {
   "attachments": {},
   "cell_type": "markdown",
   "metadata": {},
   "source": [
    "We are not ready to implement the distributed gradient descent, EXTRA and NEXT algorithm."
   ]
  },
  {
   "cell_type": "code",
   "execution_count": 140,
   "metadata": {},
   "outputs": [],
   "source": [
    "iterations = 500\n",
    "experiments = 10\n",
    "mu = 0.75\n",
    "\n",
    "w_dgd = np.zeros((M, K, iterations, experiments))\n",
    "w_dif = np.zeros((M, K, iterations, experiments))\n",
    "psi_dif = np.zeros((M, K, iterations, experiments))\n",
    "w_extra = np.zeros((M, K, iterations, experiments))\n",
    "psi_extra = np.zeros((M, K, iterations, experiments))\n",
    "phi_extra = np.zeros((M, K, iterations, experiments))\n",
    "w_tracking = np.zeros((M, K, iterations, experiments))\n",
    "psi_tracking = np.zeros((M, K, iterations, experiments))\n",
    "\n",
    "inter_tracking = np.zeros((M, K, iterations, experiments))\n",
    "g_tracking = np.zeros((M, K, iterations, experiments))\n",
    "\n",
    "error_dgd = np.zeros((K, iterations, experiments))\n",
    "error_dif = np.zeros((K, iterations, experiments))\n",
    "error_extra = np.zeros((K, iterations, experiments))\n",
    "error_tracking = np.zeros((K, iterations, experiments))\n",
    "\n",
    "old_gradient = np.zeros((M, K))\n",
    "new_gradient = np.zeros((M, K))\n",
    "\n",
    "h = np.zeros((M, K))\n",
    "v = np.zeros((K, 1))\n",
    "gamma = np.zeros((K, 1))\n",
    "\n",
    "for run in range(experiments):\n",
    "    for k in range(K):\n",
    "        h[:, k] = np.random.multivariate_normal(np.zeros(M), sigma_h_squared*np.eye(M))\n",
    "        v[k] = np.random.normal(0, sigma_v_squared)\n",
    "        gamma[k] = np.matmul(h[:, k].T, w[:, k]) + v[k] \n",
    "\n",
    "    # DGD\n",
    "    for k in range(K):\n",
    "        for l in range(K):\n",
    "            w_dgd[:, k, 1, run] += A[l, k] * w_dgd[:, l, 0, run]\n",
    "    for k in range(K):\n",
    "        w_dgd[:, k, 1, run] += mu * h[:, k]*(gamma[k] - np.dot(h[:, k], w_dgd[:, k, 0, run]))\n",
    "    \n",
    "        error_dgd[k, 0, run] = np.square(np.linalg.norm(w_dgd[:, k, 0, run] - w_star))\n",
    "        error_dgd[k, 1, run] = np.square(np.linalg.norm(w_dgd[:, k, 1, run] - w_star))\n",
    "    \n",
    "    # Diffusion\n",
    "    for k in range(K):\n",
    "            psi_dif[:, k, 1, run] = w_dif[:, k, 0, run] + mu * h[:, k]*(gamma[k] - np.dot(h[:, k], w_dif[:, k, 0, run]))\n",
    "        \n",
    "    for k in range(K):\n",
    "        for l in range(K):\n",
    "            w_dif[:, k, 1, run] += A[l, k] * psi_dif[:, l, 1, run]\n",
    "        error_dif[k, 0, run] = np.square(np.linalg.norm(w_dif[:, k, 0, run] - w_star))\n",
    "        error_dif[k, 1, run] = np.square(np.linalg.norm(w_dif[:, k, 1, run] - w_star))\n",
    "\n",
    "    # EXTRA\n",
    "    for k in range(K):\n",
    "            psi_extra[:, k, 1, run] = w_extra[:, k, 0, run] + mu * h[:, k] * (gamma[k] - np.dot(h[:, k], w_extra[:, k, 0, run]))\n",
    "            phi_extra[:, k, 1, run] = psi_extra[:, k, 1, run] \n",
    "\n",
    "    for k in range(K):\n",
    "        for l in range(K):\n",
    "            w_extra[:, k, 1, run] += A[l, k] * phi_extra[:, l, 1, run]\n",
    "        error_extra[k, 0, run] = np.square(np.linalg.norm(w_extra[:, k, 0, run] - w_star))\n",
    "        error_extra[k, 1, run] = np.square(np.linalg.norm(w_extra[:, k, 1, run] - w_star))\n",
    "\n",
    "    # AugDGM\n",
    "    for k in range(K):\n",
    "        g_tracking[:, k, 0, run] = - h[:, k]*(gamma[k] - np.dot(h[:, k], w_tracking[:, k, 0, run])) \n",
    "        psi_tracking[:, k, 1, run] = w_tracking[:, k, 0, run] - mu * g_tracking[:, k, 0, run]\n",
    "    for k in range(K):\n",
    "        for l in range(K):\n",
    "            w_tracking[:, k, 1, run] += A[l, k]*psi_tracking[:, l, 1, run] \n",
    "    for k in range(K):\n",
    "        old_gradient[:, k] = - h[:, k]*(gamma[k] - np.dot(h[:, k], w_tracking[:, k, 0, run]))  \n",
    "        h[:, k] = np.random.multivariate_normal(np.zeros(M), sigma_h_squared*np.eye(M))\n",
    "        v[k] = np.random.normal(0, sigma_v_squared)\n",
    "        gamma[k] = np.matmul(h[:, k].T, w[:, k]) + v[k]  \n",
    "        new_gradient[:, k] = - h[:, k]*(gamma[k] - np.dot(h[:, k], w_tracking[:, k, 1, run]))  \n",
    "        inter_tracking[:, k, 1, run] = g_tracking[:, k, 0, run] + new_gradient[:, k] - old_gradient[:, k]\n",
    "    for k in range(K):\n",
    "        for l in range(K):\n",
    "            g_tracking[:, k, 1, run] += A[l, k]*inter_tracking[:, l, 1, run] \n",
    "\n",
    "        error_tracking[k, 0, run] = np.square(np.linalg.norm(w_tracking[:, k, 0, run] - w_star))\n",
    "        error_tracking[k, 1, run] = np.square(np.linalg.norm(w_tracking[:, k, 1, run] - w_star))\n",
    "\n",
    "    for i in range(2, iterations):\n",
    "        for k in range(K):\n",
    "            h[:, k] = np.random.multivariate_normal(np.zeros(M), sigma_h_squared*np.eye(M))\n",
    "            v[k] = np.random.normal(0, sigma_v_squared)\n",
    "            gamma[k] = np.matmul(h[:, k].T, w[:, k]) + v[k] \n",
    "        # Diffusion\n",
    "        for k in range(K):\n",
    "            psi_dif[:, k, i, run] = w_dif[:, k, i-1, run] + mu * h[:, k]*(gamma[k] - np.dot(h[:, k], w_dif[:, k, i-1, run]))\n",
    "        \n",
    "        for k in range(K):\n",
    "            for l in range(K):\n",
    "                w_dif[:, k, i, run] += A[l, k] * psi_dif[:, l, i, run]\n",
    "            error_dif[k, i, run] = np.square(np.linalg.norm(w_dif[:, k, i, run] - w_star))\n",
    "\n",
    "        # DGD\n",
    "        for k in range(K):\n",
    "            for l in range(K):\n",
    "                w_dgd[:, k, i, run] += A[l, k] * w_dgd[:, l, i-1, run]\n",
    "        for k in range(K):\n",
    "            w_dgd[:, k, i, run] += mu * h[:, k]*(gamma[k] - np.dot(h[:, k], w_dgd[:, k, i-1, run]))\n",
    "        \n",
    "        \n",
    "            error_dgd[k, i, run] = np.square(np.linalg.norm(w_dgd[:, k, i, run] - w_star))\n",
    "\n",
    "        # EXTRA\n",
    "        for k in range(K):\n",
    "            psi_extra[:, k, i, run] = w_extra[:, k, i-1, run] + mu * h[:, k]*(gamma[k] - np.dot(h[:, k], w_extra[:, k, i-1, run]))\n",
    "            phi_extra[:, k, i, run] = w_extra[:, k, i-1, run] + psi_extra[:, k, i, run] - psi_extra[:, k, i-1, run]\n",
    "\n",
    "        for k in range(K):\n",
    "            for l in range(K):\n",
    "                w_extra[:, k, i, run] += A[l, k] * phi_extra[:, l, i, run]\n",
    "            error_extra[k, i, run] = np.square(np.linalg.norm(w_extra[:, k, i, run] - w_star))\n",
    "\n",
    "        # AugDGM\n",
    "        for k in range(K):\n",
    "            psi_tracking[:, k, i, run] = w_tracking[:, k, i-1, run] - mu * g_tracking[:, k, i-1, run]\n",
    "        for k in range(K):\n",
    "            for l in range(K):\n",
    "                w_tracking[:, k, i, run] += A[l, k]*psi_tracking[:, l, i, run] \n",
    "        for k in range(K):\n",
    "            old_gradient[:, k] = new_gradient[:, k]\n",
    "            new_gradient[:, k] = - h[:, k]*(gamma[k] - np.dot(h[:, k], w_tracking[:, k, i, run]))  \n",
    "            inter_tracking[:, k, i, run] = g_tracking[:, k, i-1, run] + new_gradient[:, k] - old_gradient[:, k]\n",
    "        for k in range(K):\n",
    "            for l in range(K):\n",
    "                g_tracking[:, k, i, run] += A[l, k]*inter_tracking[:, l, i, run] \n",
    "\n",
    "            error_tracking[k, i, run] = np.square(np.linalg.norm(w_tracking[:, k, i, run] - w_star))\n",
    "        "
   ]
  },
  {
   "attachments": {},
   "cell_type": "markdown",
   "metadata": {},
   "source": [
    "Finally, we generate the learning curves and plot."
   ]
  },
  {
   "cell_type": "code",
   "execution_count": 141,
   "metadata": {},
   "outputs": [
    {
     "name": "stderr",
     "output_type": "stream",
     "text": [
      "The PostScript backend does not support transparency; partially transparent artists will be rendered opaque.\n"
     ]
    },
    {
     "data": {
      "image/png": "[encoded data removed]",
      "text/plain": [
       "<Figure size 640x480 with 1 Axes>"
      ]
     },
     "metadata": {},
     "output_type": "display_data"
    }
   ],
   "source": [
    " \n",
    "learning_curve_ci = np.mean(np.mean(error_dgd, axis=2), axis=0)\n",
    "learning_curve_dif = np.mean(np.mean(error_dif, axis=2), axis=0)\n",
    "learning_curve_extra = np.mean(np.mean(error_extra, axis=2), axis=0)\n",
    "learning_curve_tracking = np.mean(np.mean(error_tracking, axis=2), axis=0)\n",
    "plt.figure()\n",
    "plt.semilogy(range(iterations), learning_curve_ci, linewidth=2, label='DGD')\n",
    "plt.semilogy(range(iterations), learning_curve_dif, linewidth=2, label='Diffusion')\n",
    "#plt.semilogy(range(iterations), learning_curve_extra, linewidth=2, label='Exact diffusion')\n",
    "#plt.semilogy(range(iterations), learning_curve_tracking, ':', linewidth=2, label='AugDGM')\n",
    "plt.xlabel('Iteration',fontsize=12,fontname='times new roman')\n",
    "plt.ylabel('MSD in dB',fontsize= 12,fontname='times new roman' )\n",
    "plt.xlim(0,iterations)\n",
    "plt.legend()\n",
    "plt.grid()\n",
    "plt.savefig('../newfigures/chapter-performance/instability.eps', format='eps')\n",
    "plt.show()"
   ]
  },
  {
   "attachments": {},
   "cell_type": "markdown",
   "metadata": {},
   "source": [
    "We observe that both EXTRA and gradient-tracking converge exactly, while distributed gradient descent exhibits a bias. Reducing the step-size by a factor of $10$ reduces the bias by a factor of $100$, but is also associated with a reduction in the rate of convergence for all three algorithms."
   ]
  }
 ],
 "metadata": {
  "kernelspec": {
   "display_name": "Python 3",
   "language": "python",
   "name": "python3"
  },
  "language_info": {
   "codemirror_mode": {
    "name": "ipython",
    "version": 3
   },
   "file_extension": ".py",
   "mimetype": "text/x-python",
   "name": "python",
   "nbconvert_exporter": "python",
   "pygments_lexer": "ipython3",
   "version": "3.11.9"
  },
  "orig_nbformat": 4,
  "vscode": {
   "interpreter": {
    "hash": "5c7b89af1651d0b8571dde13640ecdccf7d5a6204171d6ab33e7c296e100e08a"
   }
  }
 },
 "nbformat": 4,
 "nbformat_minor": 2
}
